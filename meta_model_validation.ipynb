{
 "cells": [
  {
   "cell_type": "code",
   "execution_count": 1,
   "metadata": {},
   "outputs": [],
   "source": [
    "import warnings\n",
    "import pandas as pd\n",
    "import numpy as np\n",
    "import torch\n",
    "import torch.nn as nn\n",
    "from torch.utils.data import DataLoader, TensorDataset\n",
    "import torch.nn.functional as F\n",
    "from torch.optim import Adam\n",
    "\n",
    "BATCH = 128\n",
    "SEED = 57\n",
    "LR = 6e-3\n",
    "\n",
    "torch.manual_seed(SEED)\n",
    "warnings.filterwarnings('ignore')"
   ]
  },
  {
   "cell_type": "code",
   "execution_count": 2,
   "metadata": {},
   "outputs": [],
   "source": [
    "df_tv = pd.read_csv('data/train_preprocessed_meta.csv', index_col='PassengerId')\n",
    "df_tt = pd.read_csv('data/test_preprocessed_meta.csv', index_col='PassengerId')"
   ]
  },
  {
   "cell_type": "code",
   "execution_count": 3,
   "metadata": {},
   "outputs": [],
   "source": [
    "ind_cols = ['lr', 'svc', 'lsvc', 'gnb', 'mnb', 'knn', 'dt', 'rf', 'ada', 'gb', 'sgd', 'xgb']\n",
    "dep_col = 'Survived'"
   ]
  },
  {
   "cell_type": "code",
   "execution_count": 4,
   "metadata": {},
   "outputs": [],
   "source": [
    "class Net(nn.Module):\n",
    "    def __init__(self) -> None:\n",
    "        super().__init__()\n",
    "        self.net = nn.Sequential(\n",
    "            nn.Linear(12, 200),\n",
    "            nn.BatchNorm1d(200),\n",
    "            nn.ReLU(),\n",
    "            nn.Dropout1d(0.2),\n",
    "\n",
    "            nn.Linear(200, 100),\n",
    "            nn.BatchNorm1d(100),\n",
    "            nn.ReLU(),\n",
    "            nn.Dropout1d(0.2),\n",
    "\n",
    "            nn.Linear(100, 1),\n",
    "            nn.Sigmoid()\n",
    "        )\n",
    "\n",
    "    def forward(self, x):\n",
    "        return self.net(x)"
   ]
  },
  {
   "cell_type": "code",
   "execution_count": 5,
   "metadata": {},
   "outputs": [],
   "source": [
    "def calculate_accuracy(fold):\n",
    "    df_tr = df_tv[df_tv.kfold != fold]\n",
    "    df_vl = df_tv[df_tv.kfold == fold]\n",
    "\n",
    "    t_xtr, t_ytr = torch.tensor(df_tr[ind_cols].values, dtype=torch.float32), torch.tensor(df_tr[dep_col].values, dtype=torch.float32)\n",
    "    t_xvl, t_yvl = torch.tensor(df_vl[ind_cols].values, dtype=torch.float32), torch.tensor(df_vl[dep_col].values, dtype=torch.float32)\n",
    "\n",
    "    dl_tr = DataLoader(TensorDataset(t_xtr, t_ytr), batch_size=BATCH, shuffle=True)\n",
    "    dl_vl = DataLoader(TensorDataset(t_xvl, t_yvl), batch_size=BATCH)\n",
    "\n",
    "    model = Net()\n",
    "    optimizer = Adam(model.parameters(), lr=LR)\n",
    "    criterion = nn.BCELoss()\n",
    "\n",
    "    vl_losses = []\n",
    "    vl_accues = []\n",
    "\n",
    "    for e in range(20):\n",
    "        model.train()\n",
    "        vl_loss = 0\n",
    "        vl_acc = 0\n",
    "\n",
    "        # Traning\n",
    "        for xtr, ytr in dl_tr:\n",
    "            ytr = ytr.unsqueeze(1)\n",
    "            ypd = model(xtr)\n",
    "            loss = criterion(ypd, ytr)\n",
    "            loss.backward()\n",
    "            optimizer.step()\n",
    "            optimizer.zero_grad()\n",
    "\n",
    "\n",
    "\n",
    "        # Model evaluation\n",
    "        model.eval()\n",
    "        with torch.no_grad():\n",
    "            for xvl, yvl in dl_vl:\n",
    "                yvl = yvl.unsqueeze(1)\n",
    "                ypd = model(xvl)\n",
    "                loss = criterion(ypd, yvl)\n",
    "                acc = torch.tensor((torch.round(ypd) == yvl).sum().item() / ypd.shape[0])\n",
    "                vl_loss += loss.item()\n",
    "                vl_acc += acc.item()\n",
    "\n",
    "        vl_loss /= len(dl_vl)\n",
    "        vl_acc /= len(dl_vl)\n",
    "\n",
    "\n",
    "        vl_losses.append(vl_loss)\n",
    "        vl_accues.append(vl_acc)\n",
    "\n",
    "    print(f'FOLD[{fold}] ==> valid_loss: {format(np.mean(vl_losses), \".3f\")} | valid_acc: {format(np.mean(vl_accues), \".3f\")}')\n",
    "    return np.mean(vl_accues)"
   ]
  },
  {
   "cell_type": "code",
   "execution_count": 6,
   "metadata": {},
   "outputs": [
    {
     "name": "stdout",
     "output_type": "stream",
     "text": [
      "FOLD[0] ==> valid_loss: 0.402 | valid_acc: 0.877\n",
      "FOLD[1] ==> valid_loss: 0.463 | valid_acc: 0.833\n",
      "FOLD[2] ==> valid_loss: 0.399 | valid_acc: 0.865\n",
      "FOLD[3] ==> valid_loss: 0.406 | valid_acc: 0.869\n",
      "FOLD[4] ==> valid_loss: 0.410 | valid_acc: 0.865\n",
      "####===> average accuracy 0.8617746311426163\n"
     ]
    }
   ],
   "source": [
    "print('####===> average accuracy', np.mean([calculate_accuracy(fold) for fold in range(5)]))"
   ]
  },
  {
   "cell_type": "code",
   "execution_count": null,
   "metadata": {},
   "outputs": [],
   "source": []
  }
 ],
 "metadata": {
  "kernelspec": {
   "display_name": "Python 3.8.9 64-bit",
   "language": "python",
   "name": "python3"
  },
  "language_info": {
   "codemirror_mode": {
    "name": "ipython",
    "version": 3
   },
   "file_extension": ".py",
   "mimetype": "text/x-python",
   "name": "python",
   "nbconvert_exporter": "python",
   "pygments_lexer": "ipython3",
   "version": "3.8.9"
  },
  "orig_nbformat": 4,
  "vscode": {
   "interpreter": {
    "hash": "31f2aee4e71d21fbe5cf8b01ff0e069b9275f58929596ceb00d14d90e3e16cd6"
   }
  }
 },
 "nbformat": 4,
 "nbformat_minor": 2
}
