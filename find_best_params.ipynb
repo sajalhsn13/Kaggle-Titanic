{
 "cells": [
  {
   "cell_type": "code",
   "execution_count": 1,
   "metadata": {},
   "outputs": [],
   "source": [
    "import warnings\n",
    "import pandas as pd\n",
    "import numpy as np\n",
    "from sklearn import linear_model\n",
    "from sklearn import svm\n",
    "from sklearn import neighbors\n",
    "from sklearn import naive_bayes\n",
    "from sklearn import tree\n",
    "from sklearn import ensemble\n",
    "from sklearn import metrics\n",
    "from sklearn import model_selection\n",
    "import xgboost as xgb\n",
    "from collections import defaultdict\n",
    "\n",
    "warnings.filterwarnings('ignore')\n",
    "\n",
    "SEED = 57"
   ]
  },
  {
   "cell_type": "code",
   "execution_count": 2,
   "metadata": {},
   "outputs": [],
   "source": [
    "df_tv = pd.read_csv('data/train_preprocessed_fold.csv', index_col='PassengerId')"
   ]
  },
  {
   "cell_type": "code",
   "execution_count": 3,
   "metadata": {},
   "outputs": [],
   "source": [
    "classifiers = {\n",
    "    'lr': linear_model.LogisticRegression,\n",
    "    'svc': svm.SVC,\n",
    "    'lsvc': svm.LinearSVC,\n",
    "    'gnb': naive_bayes.GaussianNB,\n",
    "    'mnb': naive_bayes.MultinomialNB,\n",
    "    'knn': neighbors.KNeighborsClassifier,\n",
    "    'dt': tree.DecisionTreeClassifier,\n",
    "    'rf': ensemble.RandomForestClassifier,\n",
    "    'ada': ensemble.AdaBoostClassifier,\n",
    "    'gb': ensemble.GradientBoostingClassifier,\n",
    "    'sgd': linear_model.SGDClassifier,\n",
    "    'xgb': xgb.XGBClassifier\n",
    "}\n",
    "\n",
    "classifiers_params = {\n",
    "    'lr': {\n",
    "        'C': np.logspace(-3, 3, 7),\n",
    "        'random_state': [SEED]\n",
    "    },\n",
    "    'svc': {\n",
    "        'C': np.logspace(-3, 3, 7),\n",
    "        'gamma': np.logspace(-3, 1, 5),\n",
    "        'random_state': [SEED]\n",
    "    },\n",
    "    'lsvc': {\n",
    "        'C': np.logspace(-3, 3, 7),\n",
    "        'random_state': [SEED]\n",
    "    },\n",
    "    'gnb': {\n",
    "        'var_smoothing': np.logspace(-12, -6, 7)\n",
    "    },\n",
    "    'mnb': {\n",
    "        'alpha': np.linspace(0, 1, 11)\n",
    "    },\n",
    "    'knn': {\n",
    "        'n_neighbors': np.linspace(3, 7, 5, dtype=int)\n",
    "    },\n",
    "    'dt': {\n",
    "        'criterion': [\"gini\", \"entropy\", \"log_loss\"],\n",
    "        'min_samples_leaf': [0.1],\n",
    "        'max_depth': np.linspace(3, 7, 5, dtype=int),\n",
    "        'random_state': [SEED]\n",
    "    },\n",
    "    'rf': {\n",
    "        ''\n",
    "        'criterion': [\"gini\", \"entropy\", \"log_loss\"],\n",
    "        'min_samples_leaf': [0.1],\n",
    "        'max_depth': np.linspace(3, 7, 5, dtype=int),\n",
    "        'n_estimators': np.linspace(50, 300, 6, dtype=int),\n",
    "        'random_state': [SEED]\n",
    "    },\n",
    "    'ada': {\n",
    "        'n_estimators': np.linspace(50, 300, 6, dtype=int),\n",
    "        'random_state': [SEED]\n",
    "    },\n",
    "    'gb': {\n",
    "        'n_estimators': np.linspace(50, 300, 6, dtype=int),\n",
    "        'min_samples_leaf': [0.1],\n",
    "        'random_state': [SEED]\n",
    "    },\n",
    "    'sgd': {\n",
    "        'penalty' : ['l2', 'l1', 'elasticnet'],\n",
    "        'alpha': np.logspace(-7, -1, 7),\n",
    "        'random_state': [SEED]\n",
    "    },\n",
    "    'xgb': {\n",
    "        'eta': np.arange(0, 1.1, 0.1),\n",
    "        'gamma': np.logspace(0, 4, 5),\n",
    "        'lambda': np.logspace(0, 4, 5),\n",
    "        'seed': [SEED]\n",
    "    }\n",
    "}"
   ]
  },
  {
   "cell_type": "code",
   "execution_count": 4,
   "metadata": {},
   "outputs": [],
   "source": [
    "def calculate_accuracy(classifier, params, fold):\n",
    "    df_tr = df_tv[df_tv.kfold != fold]\n",
    "    df_vl = df_tv[df_tv.kfold == fold]\n",
    "    xtr, ytr = df_tr.drop('Survived', axis=1), df_tr['Survived']\n",
    "    xvl, yvl = df_vl.drop('Survived', axis=1), df_vl['Survived']\n",
    "    ypd = classifier(**params).fit(xtr, ytr).predict(xvl)\n",
    "    return metrics.accuracy_score(yvl, ypd)"
   ]
  },
  {
   "cell_type": "code",
   "execution_count": 5,
   "metadata": {},
   "outputs": [
    {
     "name": "stdout",
     "output_type": "stream",
     "text": [
      "classifier: lr, params: {'C': 1000.0, 'random_state': 57} ==> 0.8282405373171804\n",
      "classifier: svc, params: {'C': 1000.0, 'gamma': 0.01, 'random_state': 57} ==> 0.8327663046889713\n",
      "classifier: lsvc, params: {'C': 1.0, 'random_state': 57} ==> 0.8293641328227984\n",
      "classifier: gnb, params: {'var_smoothing': 1e-06} ==> 0.7115058690603225\n",
      "classifier: mnb, params: {'alpha': 0.8} ==> 0.7934655702717971\n",
      "classifier: knn, params: {'n_neighbors': 7} ==> 0.8013307388111229\n",
      "classifier: dt, params: {'criterion': 'gini', 'max_depth': 3, 'min_samples_leaf': 0.1, 'random_state': 57} ==> 0.7755194275312285\n",
      "classifier: rf, params: {'criterion': 'gini', 'max_depth': 3, 'min_samples_leaf': 0.1, 'n_estimators': 200, 'random_state': 57} ==> 0.7912434875400163\n",
      "classifier: ada, params: {'n_estimators': 100, 'random_state': 57} ==> 0.8237461552947085\n",
      "classifier: gb, params: {'min_samples_leaf': 0.1, 'n_estimators': 150, 'random_state': 57} ==> 0.8271232188814259\n",
      "classifier: sgd, params: {'alpha': 0.001, 'penalty': 'l2', 'random_state': 57} ==> 0.828253091456908\n",
      "classifier: xgb, params: {'eta': 1.0, 'gamma': 1.0, 'lambda': 10.0, 'seed': 57} ==> 0.8226476680685456\n"
     ]
    }
   ],
   "source": [
    "accuracies = defaultdict(list)\n",
    "\n",
    "for classifier_name, classifier in classifiers.items():\n",
    "    for params in model_selection.ParameterGrid(classifiers_params[classifier_name]):\n",
    "        acc = np.mean([calculate_accuracy(classifier, params, fold) for fold in range(5)])\n",
    "        accuracies[classifier_name].append((acc, params))\n",
    "\n",
    "    accuracies[classifier_name].sort(key=lambda x: x[0], reverse=True)\n",
    "    print(f'classifier: {classifier_name}, params: {accuracies[classifier_name][0][1]} ==> {accuracies[classifier_name][0][0]}')\n"
   ]
  },
  {
   "cell_type": "code",
   "execution_count": null,
   "metadata": {},
   "outputs": [],
   "source": []
  },
  {
   "cell_type": "code",
   "execution_count": null,
   "metadata": {},
   "outputs": [],
   "source": []
  }
 ],
 "metadata": {
  "kernelspec": {
   "display_name": "Python 3.8.9 64-bit",
   "language": "python",
   "name": "python3"
  },
  "language_info": {
   "codemirror_mode": {
    "name": "ipython",
    "version": 3
   },
   "file_extension": ".py",
   "mimetype": "text/x-python",
   "name": "python",
   "nbconvert_exporter": "python",
   "pygments_lexer": "ipython3",
   "version": "3.8.9"
  },
  "orig_nbformat": 4,
  "vscode": {
   "interpreter": {
    "hash": "31f2aee4e71d21fbe5cf8b01ff0e069b9275f58929596ceb00d14d90e3e16cd6"
   }
  }
 },
 "nbformat": 4,
 "nbformat_minor": 2
}
